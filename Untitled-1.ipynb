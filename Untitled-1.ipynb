{
 "cells": [
  {
   "cell_type": "markdown",
   "metadata": {},
   "source": [
    "# probabilidad y estadistica \n",
    "## facilitador: Jose Gabriel Rodrigez Ribas \n",
    "### alumno: Miguel Ezahid Ibarra de la Paz"
   ]
  },
  {
   "cell_type": "code",
   "execution_count": null,
   "metadata": {},
   "outputs": [],
   "source": [
    "from statistics import *\n",
    "#lista de calificaciones del grupo a de probabilidad y estadistica \n",
    "grupoa = [70 ,70 ,65 ,90 ,100 ,95 ,45 ,80 ,73 ,20 ,100 , 96]\n",
    "print (grupoa)\n",
    "#la funcion type nos devuelve el tipo de dato de la variable \n",
    "type (grupoa)\n",
    "#sacar la media con formulas\n",
    "promedio = sum(grupoa) / len (grupoa)\n",
    "print (promedio)\n",
    "#utilizar la funcion mean que esta en la libreria stadistic\n",
    "promedio2 = mean (grupoa)\n",
    "print(promedio2)\n",
    "# determinar el valor de la mediana\n",
    "mediana = median (grupoa)\n",
    "print (mediana)\n",
    "tiempos100mts = [15.20, 14.69, 13.27,22.15, 19.71, 20.65 ,15.10 ,17.20]\n",
    "print (tiempos100mts)\n",
    "print (\"el tiempo promedio de los corredores es=>\", mean (tiempos100mts))\n",
    "mediana = median (tiempos100mts)\n",
    "moda = mode (tiempos100mts)\n",
    "print (\"la moda de los tienpos es =>\", moda )\n",
    "multimoda = multimode (tiempos100mts)\n",
    "print (\"la moda de los tienpos es =>\", multimoda )"
   ]
  }
 ],
 "metadata": {
  "language_info": {
   "name": "python"
  }
 },
 "nbformat": 4,
 "nbformat_minor": 2
}
